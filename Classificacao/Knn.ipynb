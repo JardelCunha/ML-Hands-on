{
  "cells": [
    {
      "cell_type": "markdown",
      "metadata": {
        "id": "O8tLVyrXg1SE"
      },
      "source": [
        "#Hands on!\n",
        "\n",
        "##Prática com o KNN - N nearest Neighbors"
      ]
    },
    {
      "cell_type": "code",
      "execution_count": 125,
      "metadata": {
        "id": "gg5sW-1nfLyN"
      },
      "outputs": [],
      "source": [
        "import pandas as pd\n",
        "import numpy as np\n",
        "import seaborn as sns\n",
        "import matplotlib.pyplot as plt\n",
        "from sklearn import datasets, svm, metrics\n",
        "from sklearn.model_selection import train_test_split\n",
        "from sklearn.neighbors import KNeighborsClassifier\n",
        "from sklearn.metrics import confusion_matrix\n",
        "import itertools"
      ]
    },
    {
      "cell_type": "code",
      "execution_count": 126,
      "metadata": {},
      "outputs": [],
      "source": [
        "#carregando a base de dados de dígitos escritos à mão, fornecida pelo sklearn\n",
        "\n",
        "digits = datasets.load_digits()"
      ]
    },
    {
      "cell_type": "code",
      "execution_count": 127,
      "metadata": {},
      "outputs": [
        {
          "name": "stdout",
          "output_type": "stream",
          "text": [
            ".. _digits_dataset:\n",
            "\n",
            "Optical recognition of handwritten digits dataset\n",
            "--------------------------------------------------\n",
            "\n",
            "**Data Set Characteristics:**\n",
            "\n",
            "    :Number of Instances: 1797\n",
            "    :Number of Attributes: 64\n",
            "    :Attribute Information: 8x8 image of integer pixels in the range 0..16.\n",
            "    :Missing Attribute Values: None\n",
            "    :Creator: E. Alpaydin (alpaydin '@' boun.edu.tr)\n",
            "    :Date: July; 1998\n",
            "\n",
            "This is a copy of the test set of the UCI ML hand-written digits datasets\n",
            "https://archive.ics.uci.edu/ml/datasets/Optical+Recognition+of+Handwritten+Digits\n",
            "\n",
            "The data set contains images of hand-written digits: 10 classes where\n",
            "each class refers to a digit.\n",
            "\n",
            "Preprocessing programs made available by NIST were used to extract\n",
            "normalized bitmaps of handwritten digits from a preprinted form. From a\n",
            "total of 43 people, 30 contributed to the training set and different 13\n",
            "to the test set. 32x32 bitmaps are divided into nonoverlapping blocks of\n",
            "4x4 and the number of on pixels are counted in each block. This generates\n",
            "an input matrix of 8x8 where each element is an integer in the range\n",
            "0..16. This reduces dimensionality and gives invariance to small\n",
            "distortions.\n",
            "\n",
            "For info on NIST preprocessing routines, see M. D. Garris, J. L. Blue, G.\n",
            "T. Candela, D. L. Dimmick, J. Geist, P. J. Grother, S. A. Janet, and C.\n",
            "L. Wilson, NIST Form-Based Handprint Recognition System, NISTIR 5469,\n",
            "1994.\n",
            "\n",
            ".. topic:: References\n",
            "\n",
            "  - C. Kaynak (1995) Methods of Combining Multiple Classifiers and Their\n",
            "    Applications to Handwritten Digit Recognition, MSc Thesis, Institute of\n",
            "    Graduate Studies in Science and Engineering, Bogazici University.\n",
            "  - E. Alpaydin, C. Kaynak (1998) Cascading Classifiers, Kybernetika.\n",
            "  - Ken Tang and Ponnuthurai N. Suganthan and Xi Yao and A. Kai Qin.\n",
            "    Linear dimensionalityreduction using relevance weighted LDA. School of\n",
            "    Electrical and Electronic Engineering Nanyang Technological University.\n",
            "    2005.\n",
            "  - Claudio Gentile. A New Approximate Maximal Margin Classification\n",
            "    Algorithm. NIPS. 2000.\n",
            "\n"
          ]
        }
      ],
      "source": [
        "#data dictionary da base de dados\n",
        "print(digits.DESCR)"
      ]
    },
    {
      "cell_type": "code",
      "execution_count": 128,
      "metadata": {},
      "outputs": [
        {
          "data": {
            "text/plain": [
              "array([[[ 0.,  0.,  5., ...,  1.,  0.,  0.],\n",
              "        [ 0.,  0., 13., ..., 15.,  5.,  0.],\n",
              "        [ 0.,  3., 15., ..., 11.,  8.,  0.],\n",
              "        ...,\n",
              "        [ 0.,  4., 11., ..., 12.,  7.,  0.],\n",
              "        [ 0.,  2., 14., ..., 12.,  0.,  0.],\n",
              "        [ 0.,  0.,  6., ...,  0.,  0.,  0.]],\n",
              "\n",
              "       [[ 0.,  0.,  0., ...,  5.,  0.,  0.],\n",
              "        [ 0.,  0.,  0., ...,  9.,  0.,  0.],\n",
              "        [ 0.,  0.,  3., ...,  6.,  0.,  0.],\n",
              "        ...,\n",
              "        [ 0.,  0.,  1., ...,  6.,  0.,  0.],\n",
              "        [ 0.,  0.,  1., ...,  6.,  0.,  0.],\n",
              "        [ 0.,  0.,  0., ..., 10.,  0.,  0.]],\n",
              "\n",
              "       [[ 0.,  0.,  0., ..., 12.,  0.,  0.],\n",
              "        [ 0.,  0.,  3., ..., 14.,  0.,  0.],\n",
              "        [ 0.,  0.,  8., ..., 16.,  0.,  0.],\n",
              "        ...,\n",
              "        [ 0.,  9., 16., ...,  0.,  0.,  0.],\n",
              "        [ 0.,  3., 13., ..., 11.,  5.,  0.],\n",
              "        [ 0.,  0.,  0., ..., 16.,  9.,  0.]],\n",
              "\n",
              "       ...,\n",
              "\n",
              "       [[ 0.,  0.,  1., ...,  1.,  0.,  0.],\n",
              "        [ 0.,  0., 13., ...,  2.,  1.,  0.],\n",
              "        [ 0.,  0., 16., ..., 16.,  5.,  0.],\n",
              "        ...,\n",
              "        [ 0.,  0., 16., ..., 15.,  0.,  0.],\n",
              "        [ 0.,  0., 15., ..., 16.,  0.,  0.],\n",
              "        [ 0.,  0.,  2., ...,  6.,  0.,  0.]],\n",
              "\n",
              "       [[ 0.,  0.,  2., ...,  0.,  0.,  0.],\n",
              "        [ 0.,  0., 14., ..., 15.,  1.,  0.],\n",
              "        [ 0.,  4., 16., ..., 16.,  7.,  0.],\n",
              "        ...,\n",
              "        [ 0.,  0.,  0., ..., 16.,  2.,  0.],\n",
              "        [ 0.,  0.,  4., ..., 16.,  2.,  0.],\n",
              "        [ 0.,  0.,  5., ..., 12.,  0.,  0.]],\n",
              "\n",
              "       [[ 0.,  0., 10., ...,  1.,  0.,  0.],\n",
              "        [ 0.,  2., 16., ...,  1.,  0.,  0.],\n",
              "        [ 0.,  0., 15., ..., 15.,  0.,  0.],\n",
              "        ...,\n",
              "        [ 0.,  4., 16., ..., 16.,  6.,  0.],\n",
              "        [ 0.,  8., 16., ..., 16.,  8.,  0.],\n",
              "        [ 0.,  1.,  8., ..., 12.,  1.,  0.]]])"
            ]
          },
          "execution_count": 128,
          "metadata": {},
          "output_type": "execute_result"
        }
      ],
      "source": [
        "#matrizes contendo as imagens de cada dígito\n",
        "digits.images"
      ]
    },
    {
      "cell_type": "code",
      "execution_count": 129,
      "metadata": {},
      "outputs": [
        {
          "data": {
            "text/plain": [
              "array([0, 1, 2, 3, 4, 5, 6, 7, 8, 9])"
            ]
          },
          "execution_count": 129,
          "metadata": {},
          "output_type": "execute_result"
        }
      ],
      "source": [
        "#classes/target\n",
        "digits.target_names"
      ]
    },
    {
      "cell_type": "markdown",
      "metadata": {},
      "source": [
        "<b>Exibindo imagens rotuladas da base de treino</b>"
      ]
    },
    {
      "cell_type": "code",
      "execution_count": 130,
      "metadata": {},
      "outputs": [
        {
          "data": {
            "image/png": "[encoded data removed]",
            "text/plain": [
              "<Figure size 640x480 with 10 Axes>"
            ]
          },
          "metadata": {},
          "output_type": "display_data"
        }
      ],
      "source": [
        "images_and_labels = list(zip(digits.images, digits.target))\n",
        "for index, (image, label) in enumerate(images_and_labels[:10]):\n",
        "    plt.subplot(3, 5, index + 1)\n",
        "    plt.axis('off')\n",
        "    plt.imshow(image, cmap=plt.cm.gray_r, interpolation='nearest')\n",
        "    plt.title('Training: %i' % label)"
      ]
    },
    {
      "cell_type": "code",
      "execution_count": 131,
      "metadata": {},
      "outputs": [],
      "source": [
        "#atribuindo os dados à um dataframe do pandas\n",
        "\n",
        "n_samples = len(digits.images)\n",
        "data = digits.images.reshape((n_samples, -1))\n",
        "classe = digits.target\n",
        "\n",
        "dataset = pd.DataFrame(data)\n",
        "dataset['classe'] = classe"
      ]
    },
    {
      "cell_type": "code",
      "execution_count": 132,
      "metadata": {},
      "outputs": [
        {
          "data": {
            "text/html": [
              "<div>\n",
              "<style scoped>\n",
              "    .dataframe tbody tr th:only-of-type {\n",
              "        vertical-align: middle;\n",
              "    }\n",
              "\n",
              "    .dataframe tbody tr th {\n",
              "        vertical-align: top;\n",
              "    }\n",
              "\n",
              "    .dataframe thead th {\n",
              "        text-align: right;\n",
              "    }\n",
              "</style>\n",
              "<table border=\"1\" class=\"dataframe\">\n",
              "  <thead>\n",
              "    <tr style=\"text-align: right;\">\n",
              "      <th></th>\n",
              "      <th>0</th>\n",
              "      <th>1</th>\n",
              "      <th>2</th>\n",
              "      <th>3</th>\n",
              "      <th>4</th>\n",
              "      <th>5</th>\n",
              "      <th>6</th>\n",
              "      <th>7</th>\n",
              "      <th>8</th>\n",
              "      <th>9</th>\n",
              "      <th>...</th>\n",
              "      <th>55</th>\n",
              "      <th>56</th>\n",
              "      <th>57</th>\n",
              "      <th>58</th>\n",
              "      <th>59</th>\n",
              "      <th>60</th>\n",
              "      <th>61</th>\n",
              "      <th>62</th>\n",
              "      <th>63</th>\n",
              "      <th>classe</th>\n",
              "    </tr>\n",
              "  </thead>\n",
              "  <tbody>\n",
              "    <tr>\n",
              "      <th>0</th>\n",
              "      <td>0.0</td>\n",
              "      <td>0.0</td>\n",
              "      <td>5.0</td>\n",
              "      <td>13.0</td>\n",
              "      <td>9.0</td>\n",
              "      <td>1.0</td>\n",
              "      <td>0.0</td>\n",
              "      <td>0.0</td>\n",
              "      <td>0.0</td>\n",
              "      <td>0.0</td>\n",
              "      <td>...</td>\n",
              "      <td>0.0</td>\n",
              "      <td>0.0</td>\n",
              "      <td>0.0</td>\n",
              "      <td>6.0</td>\n",
              "      <td>13.0</td>\n",
              "      <td>10.0</td>\n",
              "      <td>0.0</td>\n",
              "      <td>0.0</td>\n",
              "      <td>0.0</td>\n",
              "      <td>0</td>\n",
              "    </tr>\n",
              "    <tr>\n",
              "      <th>1</th>\n",
              "      <td>0.0</td>\n",
              "      <td>0.0</td>\n",
              "      <td>0.0</td>\n",
              "      <td>12.0</td>\n",
              "      <td>13.0</td>\n",
              "      <td>5.0</td>\n",
              "      <td>0.0</td>\n",
              "      <td>0.0</td>\n",
              "      <td>0.0</td>\n",
              "      <td>0.0</td>\n",
              "      <td>...</td>\n",
              "      <td>0.0</td>\n",
              "      <td>0.0</td>\n",
              "      <td>0.0</td>\n",
              "      <td>0.0</td>\n",
              "      <td>11.0</td>\n",
              "      <td>16.0</td>\n",
              "      <td>10.0</td>\n",
              "      <td>0.0</td>\n",
              "      <td>0.0</td>\n",
              "      <td>1</td>\n",
              "    </tr>\n",
              "    <tr>\n",
              "      <th>2</th>\n",
              "      <td>0.0</td>\n",
              "      <td>0.0</td>\n",
              "      <td>0.0</td>\n",
              "      <td>4.0</td>\n",
              "      <td>15.0</td>\n",
              "      <td>12.0</td>\n",
              "      <td>0.0</td>\n",
              "      <td>0.0</td>\n",
              "      <td>0.0</td>\n",
              "      <td>0.0</td>\n",
              "      <td>...</td>\n",
              "      <td>0.0</td>\n",
              "      <td>0.0</td>\n",
              "      <td>0.0</td>\n",
              "      <td>0.0</td>\n",
              "      <td>3.0</td>\n",
              "      <td>11.0</td>\n",
              "      <td>16.0</td>\n",
              "      <td>9.0</td>\n",
              "      <td>0.0</td>\n",
              "      <td>2</td>\n",
              "    </tr>\n",
              "    <tr>\n",
              "      <th>3</th>\n",
              "      <td>0.0</td>\n",
              "      <td>0.0</td>\n",
              "      <td>7.0</td>\n",
              "      <td>15.0</td>\n",
              "      <td>13.0</td>\n",
              "      <td>1.0</td>\n",
              "      <td>0.0</td>\n",
              "      <td>0.0</td>\n",
              "      <td>0.0</td>\n",
              "      <td>8.0</td>\n",
              "      <td>...</td>\n",
              "      <td>0.0</td>\n",
              "      <td>0.0</td>\n",
              "      <td>0.0</td>\n",
              "      <td>7.0</td>\n",
              "      <td>13.0</td>\n",
              "      <td>13.0</td>\n",
              "      <td>9.0</td>\n",
              "      <td>0.0</td>\n",
              "      <td>0.0</td>\n",
              "      <td>3</td>\n",
              "    </tr>\n",
              "    <tr>\n",
              "      <th>4</th>\n",
              "      <td>0.0</td>\n",
              "      <td>0.0</td>\n",
              "      <td>0.0</td>\n",
              "      <td>1.0</td>\n",
              "      <td>11.0</td>\n",
              "      <td>0.0</td>\n",
              "      <td>0.0</td>\n",
              "      <td>0.0</td>\n",
              "      <td>0.0</td>\n",
              "      <td>0.0</td>\n",
              "      <td>...</td>\n",
              "      <td>0.0</td>\n",
              "      <td>0.0</td>\n",
              "      <td>0.0</td>\n",
              "      <td>0.0</td>\n",
              "      <td>2.0</td>\n",
              "      <td>16.0</td>\n",
              "      <td>4.0</td>\n",
              "      <td>0.0</td>\n",
              "      <td>0.0</td>\n",
              "      <td>4</td>\n",
              "    </tr>\n",
              "  </tbody>\n",
              "</table>\n",
              "<p>5 rows × 65 columns</p>\n",
              "</div>"
            ],
            "text/plain": [
              "     0    1    2     3     4     5    6    7    8    9  ...   55   56   57  \\\n",
              "0  0.0  0.0  5.0  13.0   9.0   1.0  0.0  0.0  0.0  0.0  ...  0.0  0.0  0.0   \n",
              "1  0.0  0.0  0.0  12.0  13.0   5.0  0.0  0.0  0.0  0.0  ...  0.0  0.0  0.0   \n",
              "2  0.0  0.0  0.0   4.0  15.0  12.0  0.0  0.0  0.0  0.0  ...  0.0  0.0  0.0   \n",
              "3  0.0  0.0  7.0  15.0  13.0   1.0  0.0  0.0  0.0  8.0  ...  0.0  0.0  0.0   \n",
              "4  0.0  0.0  0.0   1.0  11.0   0.0  0.0  0.0  0.0  0.0  ...  0.0  0.0  0.0   \n",
              "\n",
              "    58    59    60    61   62   63  classe  \n",
              "0  6.0  13.0  10.0   0.0  0.0  0.0       0  \n",
              "1  0.0  11.0  16.0  10.0  0.0  0.0       1  \n",
              "2  0.0   3.0  11.0  16.0  9.0  0.0       2  \n",
              "3  7.0  13.0  13.0   9.0  0.0  0.0       3  \n",
              "4  0.0   2.0  16.0   4.0  0.0  0.0       4  \n",
              "\n",
              "[5 rows x 65 columns]"
            ]
          },
          "execution_count": 132,
          "metadata": {},
          "output_type": "execute_result"
        }
      ],
      "source": [
        "dataset.head()"
      ]
    },
    {
      "cell_type": "code",
      "execution_count": 153,
      "metadata": {},
      "outputs": [],
      "source": [
        "#separando os dados em treino e teste\n",
        "\n",
        "X_train, X_test, y_train, y_test = train_test_split(dataset.drop('classe', axis=1), dataset['classe'], test_size=0.3, random_state=42)"
      ]
    },
    {
      "cell_type": "code",
      "execution_count": 154,
      "metadata": {},
      "outputs": [
        {
          "data": {
            "text/plain": [
              "((1257, 64), (540, 64))"
            ]
          },
          "execution_count": 154,
          "metadata": {},
          "output_type": "execute_result"
        }
      ],
      "source": [
        "#verificando o tamanho dos dados de treino e teste\n",
        "X_train.shape, X_test.shape"
      ]
    },
    {
      "cell_type": "code",
      "execution_count": 155,
      "metadata": {},
      "outputs": [
        {
          "data": {
            "text/plain": [
              "((1257,), (540,))"
            ]
          },
          "execution_count": 155,
          "metadata": {},
          "output_type": "execute_result"
        }
      ],
      "source": [
        "y_train.shape, y_test.shape"
      ]
    },
    {
      "cell_type": "code",
      "execution_count": 156,
      "metadata": {},
      "outputs": [],
      "source": [
        "#instanciando o KNN\n",
        "\n",
        "knn = KNeighborsClassifier(n_neighbors=3)"
      ]
    },
    {
      "cell_type": "code",
      "execution_count": 157,
      "metadata": {},
      "outputs": [
        {
          "data": {
            "text/html": [
              "<style>#sk-container-id-5 {color: black;background-color: white;}#sk-container-id-5 pre{padding: 0;}#sk-container-id-5 div.sk-toggleable {background-color: white;}#sk-container-id-5 label.sk-toggleable__label {cursor: pointer;display: block;width: 100%;margin-bottom: 0;padding: 0.3em;box-sizing: border-box;text-align: center;}#sk-container-id-5 label.sk-toggleable__label-arrow:before {content: \"▸\";float: left;margin-right: 0.25em;color: #696969;}#sk-container-id-5 label.sk-toggleable__label-arrow:hover:before {color: black;}#sk-container-id-5 div.sk-estimator:hover label.sk-toggleable__label-arrow:before {color: black;}#sk-container-id-5 div.sk-toggleable__content {max-height: 0;max-width: 0;overflow: hidden;text-align: left;background-color: #f0f8ff;}#sk-container-id-5 div.sk-toggleable__content pre {margin: 0.2em;color: black;border-radius: 0.25em;background-color: #f0f8ff;}#sk-container-id-5 input.sk-toggleable__control:checked~div.sk-toggleable__content {max-height: 200px;max-width: 100%;overflow: auto;}#sk-container-id-5 input.sk-toggleable__control:checked~label.sk-toggleable__label-arrow:before {content: \"▾\";}#sk-container-id-5 div.sk-estimator input.sk-toggleable__control:checked~label.sk-toggleable__label {background-color: #d4ebff;}#sk-container-id-5 div.sk-label input.sk-toggleable__control:checked~label.sk-toggleable__label {background-color: #d4ebff;}#sk-container-id-5 input.sk-hidden--visually {border: 0;clip: rect(1px 1px 1px 1px);clip: rect(1px, 1px, 1px, 1px);height: 1px;margin: -1px;overflow: hidden;padding: 0;position: absolute;width: 1px;}#sk-container-id-5 div.sk-estimator {font-family: monospace;background-color: #f0f8ff;border: 1px dotted black;border-radius: 0.25em;box-sizing: border-box;margin-bottom: 0.5em;}#sk-container-id-5 div.sk-estimator:hover {background-color: #d4ebff;}#sk-container-id-5 div.sk-parallel-item::after {content: \"\";width: 100%;border-bottom: 1px solid gray;flex-grow: 1;}#sk-container-id-5 div.sk-label:hover label.sk-toggleable__label {background-color: #d4ebff;}#sk-container-id-5 div.sk-serial::before {content: \"\";position: absolute;border-left: 1px solid gray;box-sizing: border-box;top: 0;bottom: 0;left: 50%;z-index: 0;}#sk-container-id-5 div.sk-serial {display: flex;flex-direction: column;align-items: center;background-color: white;padding-right: 0.2em;padding-left: 0.2em;position: relative;}#sk-container-id-5 div.sk-item {position: relative;z-index: 1;}#sk-container-id-5 div.sk-parallel {display: flex;align-items: stretch;justify-content: center;background-color: white;position: relative;}#sk-container-id-5 div.sk-item::before, #sk-container-id-5 div.sk-parallel-item::before {content: \"\";position: absolute;border-left: 1px solid gray;box-sizing: border-box;top: 0;bottom: 0;left: 50%;z-index: -1;}#sk-container-id-5 div.sk-parallel-item {display: flex;flex-direction: column;z-index: 1;position: relative;background-color: white;}#sk-container-id-5 div.sk-parallel-item:first-child::after {align-self: flex-end;width: 50%;}#sk-container-id-5 div.sk-parallel-item:last-child::after {align-self: flex-start;width: 50%;}#sk-container-id-5 div.sk-parallel-item:only-child::after {width: 0;}#sk-container-id-5 div.sk-dashed-wrapped {border: 1px dashed gray;margin: 0 0.4em 0.5em 0.4em;box-sizing: border-box;padding-bottom: 0.4em;background-color: white;}#sk-container-id-5 div.sk-label label {font-family: monospace;font-weight: bold;display: inline-block;line-height: 1.2em;}#sk-container-id-5 div.sk-label-container {text-align: center;}#sk-container-id-5 div.sk-container {/* jupyter's `normalize.less` sets `[hidden] { display: none; }` but bootstrap.min.css set `[hidden] { display: none !important; }` so we also need the `!important` here to be able to override the default hidden behavior on the sphinx rendered scikit-learn.org. See: https://github.com/scikit-learn/scikit-learn/issues/21755 */display: inline-block !important;position: relative;}#sk-container-id-5 div.sk-text-repr-fallback {display: none;}</style><div id=\"sk-container-id-5\" class=\"sk-top-container\"><div class=\"sk-text-repr-fallback\"><pre>KNeighborsClassifier(n_neighbors=3)</pre><b>In a Jupyter environment, please rerun this cell to show the HTML representation or trust the notebook. <br />On GitHub, the HTML representation is unable to render, please try loading this page with nbviewer.org.</b></div><div class=\"sk-container\" hidden><div class=\"sk-item\"><div class=\"sk-estimator sk-toggleable\"><input class=\"sk-toggleable__control sk-hidden--visually\" id=\"sk-estimator-id-5\" type=\"checkbox\" checked><label for=\"sk-estimator-id-5\" class=\"sk-toggleable__label sk-toggleable__label-arrow\">KNeighborsClassifier</label><div class=\"sk-toggleable__content\"><pre>KNeighborsClassifier(n_neighbors=3)</pre></div></div></div></div></div>"
            ],
            "text/plain": [
              "KNeighborsClassifier(n_neighbors=3)"
            ]
          },
          "execution_count": 157,
          "metadata": {},
          "output_type": "execute_result"
        }
      ],
      "source": [
        "#treinando o algoritmo\n",
        "knn.fit(X_train, y_train)"
      ]
    },
    {
      "cell_type": "code",
      "execution_count": 158,
      "metadata": {},
      "outputs": [],
      "source": [
        "#predizendo os dados de teste\n",
        "y_pred = knn.predict(X_test)"
      ]
    },
    {
      "cell_type": "code",
      "execution_count": 159,
      "metadata": {},
      "outputs": [
        {
          "name": "stdout",
          "output_type": "stream",
          "text": [
            "              precision    recall  f1-score   support\n",
            "\n",
            "           0       1.00      1.00      1.00        53\n",
            "           1       0.98      1.00      0.99        50\n",
            "           2       1.00      1.00      1.00        47\n",
            "           3       0.98      1.00      0.99        54\n",
            "           4       0.98      1.00      0.99        60\n",
            "           5       0.99      1.00      0.99        66\n",
            "           6       1.00      1.00      1.00        53\n",
            "           7       1.00      0.98      0.99        55\n",
            "           8       0.98      0.98      0.98        43\n",
            "           9       0.98      0.93      0.96        59\n",
            "\n",
            "    accuracy                           0.99       540\n",
            "   macro avg       0.99      0.99      0.99       540\n",
            "weighted avg       0.99      0.99      0.99       540\n",
            "\n"
          ]
        }
      ],
      "source": [
        "#avaliando resultados\n",
        "print(metrics.classification_report(y_test, y_pred))"
      ]
    },
    {
      "cell_type": "markdown",
      "metadata": {},
      "source": [
        "## Matriz de Confusão"
      ]
    },
    {
      "cell_type": "code",
      "execution_count": 160,
      "metadata": {},
      "outputs": [],
      "source": [
        "def plot_confusion_matrix(cm, classes,\n",
        "                          normalize=False,\n",
        "                          title='Confusion matrix',\n",
        "                          cmap=plt.cm.Blues):\n",
        "    \"\"\"\n",
        "    This function prints and plots the confusion matrix.\n",
        "    Normalization can be applied by setting `normalize=True`.\n",
        "    \"\"\"\n",
        "    if normalize:\n",
        "        cm = cm.astype('float') / cm.sum(axis=1)[:, np.newaxis]\n",
        "        print(\"Normalized confusion matrix\")\n",
        "    else:\n",
        "        print('Confusion matrix, without normalization')\n",
        "\n",
        "    print(cm)\n",
        "\n",
        "    plt.imshow(cm, interpolation='nearest', cmap=cmap)\n",
        "    plt.title(title)\n",
        "    plt.colorbar()\n",
        "    tick_marks = np.arange(len(classes))\n",
        "    plt.xticks(tick_marks, classes, rotation=45)\n",
        "    plt.yticks(tick_marks, classes)\n",
        "\n",
        "    fmt = '.2f' if normalize else 'd'\n",
        "    thresh = cm.max() / 2.\n",
        "    for i, j in itertools.product(range(cm.shape[0]), range(cm.shape[1])):\n",
        "        plt.text(j, i, format(cm[i, j], fmt),\n",
        "                 horizontalalignment=\"center\",\n",
        "                 color=\"white\" if cm[i, j] > thresh else \"black\")\n",
        "\n",
        "    plt.tight_layout()\n",
        "    plt.ylabel('Classe Real')\n",
        "    plt.xlabel('Classe Predita')"
      ]
    },
    {
      "cell_type": "code",
      "execution_count": 161,
      "metadata": {},
      "outputs": [
        {
          "name": "stdout",
          "output_type": "stream",
          "text": [
            "Confusion matrix, without normalization\n",
            "[[53  0  0  0  0  0  0  0  0  0]\n",
            " [ 0 50  0  0  0  0  0  0  0  0]\n",
            " [ 0  0 47  0  0  0  0  0  0  0]\n",
            " [ 0  0  0 54  0  0  0  0  0  0]\n",
            " [ 0  0  0  0 60  0  0  0  0  0]\n",
            " [ 0  0  0  0  0 66  0  0  0  0]\n",
            " [ 0  0  0  0  0  0 53  0  0  0]\n",
            " [ 0  0  0  0  0  0  0 54  0  1]\n",
            " [ 0  1  0  0  0  0  0  0 42  0]\n",
            " [ 0  0  0  1  1  1  0  0  1 55]]\n"
          ]
        },
        {
          "data": {
            "image/png": "[encoded data removed]",
            "text/plain": [
              "<Figure size 640x480 with 2 Axes>"
            ]
          },
          "metadata": {},
          "output_type": "display_data"
        }
      ],
      "source": [
        "classe_names = digits.target_names\n",
        "\n",
        "cnf_matrix = confusion_matrix(y_test, y_pred)\n",
        "\n",
        "\n",
        "plt.figure()\n",
        "plot_confusion_matrix(cnf_matrix, classes=classe_names, title='Matriz de Confusão')\n",
        "plt.show()"
      ]
    },
    {
      "cell_type": "markdown",
      "metadata": {},
      "source": [
        "## Validação Cruzada"
      ]
    },
    {
      "cell_type": "code",
      "execution_count": 162,
      "metadata": {},
      "outputs": [
        {
          "data": {
            "text/plain": [
              "array([0.95555556, 0.95833333, 0.96657382, 0.98607242, 0.96657382])"
            ]
          },
          "execution_count": 162,
          "metadata": {},
          "output_type": "execute_result"
        }
      ],
      "source": [
        "from sklearn.model_selection import cross_val_score\n",
        "\n",
        "scores = cross_val_score(knn, dataset.drop('classe', axis=1), dataset['classe'], cv=5)\n",
        "scores"
      ]
    },
    {
      "cell_type": "markdown",
      "metadata": {},
      "source": [
        "## É possível melhorar o desempenho otimizando o parâmetro K?"
      ]
    },
    {
      "cell_type": "code",
      "execution_count": 163,
      "metadata": {},
      "outputs": [],
      "source": [
        "from sklearn.model_selection import GridSearchCV"
      ]
    },
    {
      "cell_type": "code",
      "execution_count": 166,
      "metadata": {},
      "outputs": [
        {
          "name": "stdout",
          "output_type": "stream",
          "text": [
            "{'n_neighbors': [1, 2, 3, 4, 5, 6, 7, 8, 9, 10, 11, 12, 13, 14, 15, 16, 17, 18, 19, 20, 21, 22, 23, 24, 25, 26, 27, 28, 29, 30]}\n"
          ]
        }
      ],
      "source": [
        "k_list = list(range(1, 31))\n",
        "\n",
        "k_values = dict(n_neighbors=k_list)\n",
        "print(k_values)"
      ]
    },
    {
      "cell_type": "code",
      "execution_count": 167,
      "metadata": {},
      "outputs": [],
      "source": [
        "#instanciando o grid\n",
        "\n",
        "grid = GridSearchCV(knn, k_values, cv=5, scoring='accuracy')"
      ]
    },
    {
      "cell_type": "code",
      "execution_count": 169,
      "metadata": {},
      "outputs": [
        {
          "data": {
            "text/html": [
              "<style>#sk-container-id-7 {color: black;background-color: white;}#sk-container-id-7 pre{padding: 0;}#sk-container-id-7 div.sk-toggleable {background-color: white;}#sk-container-id-7 label.sk-toggleable__label {cursor: pointer;display: block;width: 100%;margin-bottom: 0;padding: 0.3em;box-sizing: border-box;text-align: center;}#sk-container-id-7 label.sk-toggleable__label-arrow:before {content: \"▸\";float: left;margin-right: 0.25em;color: #696969;}#sk-container-id-7 label.sk-toggleable__label-arrow:hover:before {color: black;}#sk-container-id-7 div.sk-estimator:hover label.sk-toggleable__label-arrow:before {color: black;}#sk-container-id-7 div.sk-toggleable__content {max-height: 0;max-width: 0;overflow: hidden;text-align: left;background-color: #f0f8ff;}#sk-container-id-7 div.sk-toggleable__content pre {margin: 0.2em;color: black;border-radius: 0.25em;background-color: #f0f8ff;}#sk-container-id-7 input.sk-toggleable__control:checked~div.sk-toggleable__content {max-height: 200px;max-width: 100%;overflow: auto;}#sk-container-id-7 input.sk-toggleable__control:checked~label.sk-toggleable__label-arrow:before {content: \"▾\";}#sk-container-id-7 div.sk-estimator input.sk-toggleable__control:checked~label.sk-toggleable__label {background-color: #d4ebff;}#sk-container-id-7 div.sk-label input.sk-toggleable__control:checked~label.sk-toggleable__label {background-color: #d4ebff;}#sk-container-id-7 input.sk-hidden--visually {border: 0;clip: rect(1px 1px 1px 1px);clip: rect(1px, 1px, 1px, 1px);height: 1px;margin: -1px;overflow: hidden;padding: 0;position: absolute;width: 1px;}#sk-container-id-7 div.sk-estimator {font-family: monospace;background-color: #f0f8ff;border: 1px dotted black;border-radius: 0.25em;box-sizing: border-box;margin-bottom: 0.5em;}#sk-container-id-7 div.sk-estimator:hover {background-color: #d4ebff;}#sk-container-id-7 div.sk-parallel-item::after {content: \"\";width: 100%;border-bottom: 1px solid gray;flex-grow: 1;}#sk-container-id-7 div.sk-label:hover label.sk-toggleable__label {background-color: #d4ebff;}#sk-container-id-7 div.sk-serial::before {content: \"\";position: absolute;border-left: 1px solid gray;box-sizing: border-box;top: 0;bottom: 0;left: 50%;z-index: 0;}#sk-container-id-7 div.sk-serial {display: flex;flex-direction: column;align-items: center;background-color: white;padding-right: 0.2em;padding-left: 0.2em;position: relative;}#sk-container-id-7 div.sk-item {position: relative;z-index: 1;}#sk-container-id-7 div.sk-parallel {display: flex;align-items: stretch;justify-content: center;background-color: white;position: relative;}#sk-container-id-7 div.sk-item::before, #sk-container-id-7 div.sk-parallel-item::before {content: \"\";position: absolute;border-left: 1px solid gray;box-sizing: border-box;top: 0;bottom: 0;left: 50%;z-index: -1;}#sk-container-id-7 div.sk-parallel-item {display: flex;flex-direction: column;z-index: 1;position: relative;background-color: white;}#sk-container-id-7 div.sk-parallel-item:first-child::after {align-self: flex-end;width: 50%;}#sk-container-id-7 div.sk-parallel-item:last-child::after {align-self: flex-start;width: 50%;}#sk-container-id-7 div.sk-parallel-item:only-child::after {width: 0;}#sk-container-id-7 div.sk-dashed-wrapped {border: 1px dashed gray;margin: 0 0.4em 0.5em 0.4em;box-sizing: border-box;padding-bottom: 0.4em;background-color: white;}#sk-container-id-7 div.sk-label label {font-family: monospace;font-weight: bold;display: inline-block;line-height: 1.2em;}#sk-container-id-7 div.sk-label-container {text-align: center;}#sk-container-id-7 div.sk-container {/* jupyter's `normalize.less` sets `[hidden] { display: none; }` but bootstrap.min.css set `[hidden] { display: none !important; }` so we also need the `!important` here to be able to override the default hidden behavior on the sphinx rendered scikit-learn.org. See: https://github.com/scikit-learn/scikit-learn/issues/21755 */display: inline-block !important;position: relative;}#sk-container-id-7 div.sk-text-repr-fallback {display: none;}</style><div id=\"sk-container-id-7\" class=\"sk-top-container\"><div class=\"sk-text-repr-fallback\"><pre>GridSearchCV(cv=5, estimator=KNeighborsClassifier(n_neighbors=3),\n",
              "             param_grid={&#x27;n_neighbors&#x27;: [1, 2, 3, 4, 5, 6, 7, 8, 9, 10, 11, 12,\n",
              "                                         13, 14, 15, 16, 17, 18, 19, 20, 21, 22,\n",
              "                                         23, 24, 25, 26, 27, 28, 29, 30]},\n",
              "             scoring=&#x27;accuracy&#x27;)</pre><b>In a Jupyter environment, please rerun this cell to show the HTML representation or trust the notebook. <br />On GitHub, the HTML representation is unable to render, please try loading this page with nbviewer.org.</b></div><div class=\"sk-container\" hidden><div class=\"sk-item sk-dashed-wrapped\"><div class=\"sk-label-container\"><div class=\"sk-label sk-toggleable\"><input class=\"sk-toggleable__control sk-hidden--visually\" id=\"sk-estimator-id-9\" type=\"checkbox\" ><label for=\"sk-estimator-id-9\" class=\"sk-toggleable__label sk-toggleable__label-arrow\">GridSearchCV</label><div class=\"sk-toggleable__content\"><pre>GridSearchCV(cv=5, estimator=KNeighborsClassifier(n_neighbors=3),\n",
              "             param_grid={&#x27;n_neighbors&#x27;: [1, 2, 3, 4, 5, 6, 7, 8, 9, 10, 11, 12,\n",
              "                                         13, 14, 15, 16, 17, 18, 19, 20, 21, 22,\n",
              "                                         23, 24, 25, 26, 27, 28, 29, 30]},\n",
              "             scoring=&#x27;accuracy&#x27;)</pre></div></div></div><div class=\"sk-parallel\"><div class=\"sk-parallel-item\"><div class=\"sk-item\"><div class=\"sk-label-container\"><div class=\"sk-label sk-toggleable\"><input class=\"sk-toggleable__control sk-hidden--visually\" id=\"sk-estimator-id-10\" type=\"checkbox\" ><label for=\"sk-estimator-id-10\" class=\"sk-toggleable__label sk-toggleable__label-arrow\">estimator: KNeighborsClassifier</label><div class=\"sk-toggleable__content\"><pre>KNeighborsClassifier(n_neighbors=3)</pre></div></div></div><div class=\"sk-serial\"><div class=\"sk-item\"><div class=\"sk-estimator sk-toggleable\"><input class=\"sk-toggleable__control sk-hidden--visually\" id=\"sk-estimator-id-11\" type=\"checkbox\" ><label for=\"sk-estimator-id-11\" class=\"sk-toggleable__label sk-toggleable__label-arrow\">KNeighborsClassifier</label><div class=\"sk-toggleable__content\"><pre>KNeighborsClassifier(n_neighbors=3)</pre></div></div></div></div></div></div></div></div></div></div>"
            ],
            "text/plain": [
              "GridSearchCV(cv=5, estimator=KNeighborsClassifier(n_neighbors=3),\n",
              "             param_grid={'n_neighbors': [1, 2, 3, 4, 5, 6, 7, 8, 9, 10, 11, 12,\n",
              "                                         13, 14, 15, 16, 17, 18, 19, 20, 21, 22,\n",
              "                                         23, 24, 25, 26, 27, 28, 29, 30]},\n",
              "             scoring='accuracy')"
            ]
          },
          "execution_count": 169,
          "metadata": {},
          "output_type": "execute_result"
        }
      ],
      "source": [
        "#treinando\n",
        "#não se faz necessário separar os dados em treino e teste, pois o grid já faz isso, por isso passamos o dataset inteiro\n",
        "\n",
        "grid.fit(dataset.drop('classe', axis=1), dataset['classe'])"
      ]
    },
    {
      "cell_type": "code",
      "execution_count": 178,
      "metadata": {},
      "outputs": [
        {
          "data": {
            "text/plain": [
              "dict_keys(['mean_fit_time', 'std_fit_time', 'mean_score_time', 'std_score_time', 'param_n_neighbors', 'params', 'split0_test_score', 'split1_test_score', 'split2_test_score', 'split3_test_score', 'split4_test_score', 'mean_test_score', 'std_test_score', 'rank_test_score'])"
            ]
          },
          "execution_count": 178,
          "metadata": {},
          "output_type": "execute_result"
        }
      ],
      "source": [
        "grid.cv_results_.keys()"
      ]
    },
    {
      "cell_type": "code",
      "execution_count": 180,
      "metadata": {},
      "outputs": [
        {
          "name": "stdout",
          "output_type": "stream",
          "text": [
            "mean_test_score  :  [0.96439338 0.96717115 0.96662179 0.96384092 0.96272826 0.95938564\n",
            " 0.95994584 0.95772052 0.95661096 0.95494274 0.9554983  0.95605231\n",
            " 0.95549675 0.95605076 0.95438254 0.95438409 0.95326679 0.94937481\n",
            " 0.95048437 0.94937326 0.94881925 0.94937635 0.9482637  0.94882389\n",
            " 0.94548128 0.94548282 0.94380997 0.94324977 0.94102755 0.94102445]\n",
            "std_test_score  :  [0.01183842 0.00618072 0.01067232 0.01094553 0.01116854 0.01061202\n",
            " 0.01505909 0.01461989 0.01688705 0.01677273 0.01559219 0.01482341\n",
            " 0.01579353 0.01328726 0.01452912 0.01441218 0.01099427 0.01350204\n",
            " 0.01256786 0.01450101 0.0151414  0.01676341 0.01534136 0.01818901\n",
            " 0.0147188  0.01502449 0.01267096 0.01029015 0.01254531 0.01179861]\n",
            "param_n_neighbors  :  [1 2 3 4 5 6 7 8 9 10 11 12 13 14 15 16 17 18 19 20 21 22 23 24 25 26 27\n",
            " 28 29 30]\n"
          ]
        }
      ],
      "source": [
        "for i in ['mean_test_score', 'std_test_score', 'param_n_neighbors']:\n",
        "    print(i,\" : \",grid.cv_results_[i])"
      ]
    },
    {
      "cell_type": "code",
      "execution_count": 181,
      "metadata": {},
      "outputs": [
        {
          "name": "stdout",
          "output_type": "stream",
          "text": [
            "O melhor valor de k é 2 com uma acurácia de 0.9671711544413494\n"
          ]
        }
      ],
      "source": [
        "print(f\"O melhor valor de k é {grid.best_params_['n_neighbors']} com uma acurácia de {grid.best_score_}\")"
      ]
    },
    {
      "cell_type": "code",
      "execution_count": 184,
      "metadata": {},
      "outputs": [
        {
          "ename": "ValueError",
          "evalue": "x and y must have same first dimension, but have shapes (30,) and (14,)",
          "output_type": "error",
          "traceback": [
            "\u001b[0;31m---------------------------------------------------------------------------\u001b[0m",
            "\u001b[0;31mValueError\u001b[0m                                Traceback (most recent call last)",
            "Cell \u001b[0;32mIn [184], line 7\u001b[0m\n\u001b[1;32m      4\u001b[0m     scores\u001b[39m.\u001b[39mappend(score[\u001b[39m1\u001b[39m])\n\u001b[1;32m      6\u001b[0m plt\u001b[39m.\u001b[39mfigure(figsize\u001b[39m=\u001b[39m(\u001b[39m10\u001b[39m, \u001b[39m6\u001b[39m))\n\u001b[0;32m----> 7\u001b[0m plt\u001b[39m.\u001b[39;49mplot(k_list, scores)\n\u001b[1;32m      8\u001b[0m plt\u001b[39m.\u001b[39mxlabel(\u001b[39m'\u001b[39m\u001b[39mValor de K para KNN\u001b[39m\u001b[39m'\u001b[39m)\n\u001b[1;32m      9\u001b[0m plt\u001b[39m.\u001b[39mylabel(\u001b[39m'\u001b[39m\u001b[39mAcurácia\u001b[39m\u001b[39m'\u001b[39m)\n",
            "File \u001b[0;32m~/.local/lib/python3.10/site-packages/matplotlib/pyplot.py:2767\u001b[0m, in \u001b[0;36mplot\u001b[0;34m(scalex, scaley, data, *args, **kwargs)\u001b[0m\n\u001b[1;32m   2761\u001b[0m     \u001b[39mreturn\u001b[39;00m gca()\u001b[39m.\u001b[39mplot(\n\u001b[1;32m   2762\u001b[0m         \u001b[39m*\u001b[39margs, scalex\u001b[39m=\u001b[39mscalex, scaley\u001b[39m=\u001b[39mscaley, \u001b[39m*\u001b[39m\u001b[39m*\u001b[39m({\u001b[39m\"\u001b[39m\u001b[39mdata\u001b[39m\u001b[39m\"\u001b[39m: data} \u001b[39mif\u001b[39;00m data\n\u001b[1;32m   2763\u001b[0m         \u001b[39mis\u001b[39;00m \u001b[39mnot\u001b[39;00m \u001b[39mNone\u001b[39;00m \u001b[39melse\u001b[39;00m {}), \u001b[39m*\u001b[39m\u001b[39m*\u001b[39mkwargs)\n\u001b[1;32m   2766\u001b[0m \u001b[39m# Autogenerated by boilerplate.py.  Do not edit as changes will be lost.\u001b[39;00m\n\u001b[0;32m-> 2767\u001b[0m \u001b[39m@docstring\u001b[39m\u001b[39m.\u001b[39mcopy(Axes\u001b[39m.\u001b[39mplot_date)\n\u001b[1;32m   2768\u001b[0m \u001b[39mdef\u001b[39;00m \u001b[39mplot_date\u001b[39m(\n\u001b[1;32m   2769\u001b[0m         x, y, fmt\u001b[39m=\u001b[39m\u001b[39m'\u001b[39m\u001b[39mo\u001b[39m\u001b[39m'\u001b[39m, tz\u001b[39m=\u001b[39m\u001b[39mNone\u001b[39;00m, xdate\u001b[39m=\u001b[39m\u001b[39mTrue\u001b[39;00m, ydate\u001b[39m=\u001b[39m\u001b[39mFalse\u001b[39;00m, \u001b[39m*\u001b[39m,\n\u001b[1;32m   2770\u001b[0m         data\u001b[39m=\u001b[39m\u001b[39mNone\u001b[39;00m, \u001b[39m*\u001b[39m\u001b[39m*\u001b[39mkwargs):\n\u001b[1;32m   2771\u001b[0m     \u001b[39mreturn\u001b[39;00m gca()\u001b[39m.\u001b[39mplot_date(\n\u001b[1;32m   2772\u001b[0m         x, y, fmt\u001b[39m=\u001b[39mfmt, tz\u001b[39m=\u001b[39mtz, xdate\u001b[39m=\u001b[39mxdate, ydate\u001b[39m=\u001b[39mydate, \u001b[39m*\u001b[39m\u001b[39m*\u001b[39m({\u001b[39m\"\u001b[39m\u001b[39mdata\u001b[39m\u001b[39m\"\u001b[39m:\n\u001b[1;32m   2773\u001b[0m         data} \u001b[39mif\u001b[39;00m data \u001b[39mis\u001b[39;00m \u001b[39mnot\u001b[39;00m \u001b[39mNone\u001b[39;00m \u001b[39melse\u001b[39;00m {}), \u001b[39m*\u001b[39m\u001b[39m*\u001b[39mkwargs)\n\u001b[1;32m   2776\u001b[0m \u001b[39m# Autogenerated by boilerplate.py.  Do not edit as changes will be lost.\u001b[39;00m\n",
            "File \u001b[0;32m~/.local/lib/python3.10/site-packages/matplotlib/axes/_axes.py:1635\u001b[0m, in \u001b[0;36mplot\u001b[0;34m(self, scalex, scaley, data, *args, **kwargs)\u001b[0m\n\u001b[1;32m   1414\u001b[0m \u001b[39m@docstring\u001b[39m\u001b[39m.\u001b[39mdedent_interpd\n\u001b[1;32m   1415\u001b[0m \u001b[39mdef\u001b[39;00m \u001b[39mplot\u001b[39m(\u001b[39mself\u001b[39m, \u001b[39m*\u001b[39margs, scalex\u001b[39m=\u001b[39m\u001b[39mTrue\u001b[39;00m, scaley\u001b[39m=\u001b[39m\u001b[39mTrue\u001b[39;00m, data\u001b[39m=\u001b[39m\u001b[39mNone\u001b[39;00m, \u001b[39m*\u001b[39m\u001b[39m*\u001b[39mkwargs):\n\u001b[1;32m   1416\u001b[0m     \u001b[39m\"\"\"\u001b[39;00m\n\u001b[1;32m   1417\u001b[0m \u001b[39m    Plot y versus x as lines and/or markers.\u001b[39;00m\n\u001b[1;32m   1418\u001b[0m \n\u001b[1;32m   1419\u001b[0m \u001b[39m    Call signatures::\u001b[39;00m\n\u001b[1;32m   1420\u001b[0m \n\u001b[1;32m   1421\u001b[0m \u001b[39m        plot([x], y, [fmt], *, data=None, **kwargs)\u001b[39;00m\n\u001b[1;32m   1422\u001b[0m \u001b[39m        plot([x], y, [fmt], [x2], y2, [fmt2], ..., **kwargs)\u001b[39;00m\n\u001b[1;32m   1423\u001b[0m \n\u001b[1;32m   1424\u001b[0m \u001b[39m    The coordinates of the points or line nodes are given by *x*, *y*.\u001b[39;00m\n\u001b[1;32m   1425\u001b[0m \n\u001b[1;32m   1426\u001b[0m \u001b[39m    The optional parameter *fmt* is a convenient way for defining basic\u001b[39;00m\n\u001b[1;32m   1427\u001b[0m \u001b[39m    formatting like color, marker and linestyle. It's a shortcut string\u001b[39;00m\n\u001b[1;32m   1428\u001b[0m \u001b[39m    notation described in the *Notes* section below.\u001b[39;00m\n\u001b[1;32m   1429\u001b[0m \n\u001b[1;32m   1430\u001b[0m \u001b[39m    >>> plot(x, y)        # plot x and y using default line style and color\u001b[39;00m\n\u001b[1;32m   1431\u001b[0m \u001b[39m    >>> plot(x, y, 'bo')  # plot x and y using blue circle markers\u001b[39;00m\n\u001b[1;32m   1432\u001b[0m \u001b[39m    >>> plot(y)           # plot y using x as index array 0..N-1\u001b[39;00m\n\u001b[1;32m   1433\u001b[0m \u001b[39m    >>> plot(y, 'r+')     # ditto, but with red plusses\u001b[39;00m\n\u001b[1;32m   1434\u001b[0m \n\u001b[1;32m   1435\u001b[0m \u001b[39m    You can use `.Line2D` properties as keyword arguments for more\u001b[39;00m\n\u001b[1;32m   1436\u001b[0m \u001b[39m    control on the appearance. Line properties and *fmt* can be mixed.\u001b[39;00m\n\u001b[1;32m   1437\u001b[0m \u001b[39m    The following two calls yield identical results:\u001b[39;00m\n\u001b[1;32m   1438\u001b[0m \n\u001b[1;32m   1439\u001b[0m \u001b[39m    >>> plot(x, y, 'go--', linewidth=2, markersize=12)\u001b[39;00m\n\u001b[1;32m   1440\u001b[0m \u001b[39m    >>> plot(x, y, color='green', marker='o', linestyle='dashed',\u001b[39;00m\n\u001b[1;32m   1441\u001b[0m \u001b[39m    ...      linewidth=2, markersize=12)\u001b[39;00m\n\u001b[1;32m   1442\u001b[0m \n\u001b[1;32m   1443\u001b[0m \u001b[39m    When conflicting with *fmt*, keyword arguments take precedence.\u001b[39;00m\n\u001b[1;32m   1444\u001b[0m \n\u001b[1;32m   1445\u001b[0m \n\u001b[1;32m   1446\u001b[0m \u001b[39m    **Plotting labelled data**\u001b[39;00m\n\u001b[1;32m   1447\u001b[0m \n\u001b[1;32m   1448\u001b[0m \u001b[39m    There's a convenient way for plotting objects with labelled data (i.e.\u001b[39;00m\n\u001b[1;32m   1449\u001b[0m \u001b[39m    data that can be accessed by index ``obj['y']``). Instead of giving\u001b[39;00m\n\u001b[1;32m   1450\u001b[0m \u001b[39m    the data in *x* and *y*, you can provide the object in the *data*\u001b[39;00m\n\u001b[1;32m   1451\u001b[0m \u001b[39m    parameter and just give the labels for *x* and *y*::\u001b[39;00m\n\u001b[1;32m   1452\u001b[0m \n\u001b[1;32m   1453\u001b[0m \u001b[39m    >>> plot('xlabel', 'ylabel', data=obj)\u001b[39;00m\n\u001b[1;32m   1454\u001b[0m \n\u001b[1;32m   1455\u001b[0m \u001b[39m    All indexable objects are supported. This could e.g. be a `dict`, a\u001b[39;00m\n\u001b[1;32m   1456\u001b[0m \u001b[39m    `pandas.DataFame` or a structured numpy array.\u001b[39;00m\n\u001b[1;32m   1457\u001b[0m \n\u001b[1;32m   1458\u001b[0m \n\u001b[1;32m   1459\u001b[0m \u001b[39m    **Plotting multiple sets of data**\u001b[39;00m\n\u001b[1;32m   1460\u001b[0m \n\u001b[1;32m   1461\u001b[0m \u001b[39m    There are various ways to plot multiple sets of data.\u001b[39;00m\n\u001b[1;32m   1462\u001b[0m \n\u001b[1;32m   1463\u001b[0m \u001b[39m    - The most straight forward way is just to call `plot` multiple times.\u001b[39;00m\n\u001b[1;32m   1464\u001b[0m \u001b[39m      Example:\u001b[39;00m\n\u001b[1;32m   1465\u001b[0m \n\u001b[1;32m   1466\u001b[0m \u001b[39m      >>> plot(x1, y1, 'bo')\u001b[39;00m\n\u001b[1;32m   1467\u001b[0m \u001b[39m      >>> plot(x2, y2, 'go')\u001b[39;00m\n\u001b[1;32m   1468\u001b[0m \n\u001b[1;32m   1469\u001b[0m \u001b[39m    - Alternatively, if your data is already a 2d array, you can pass it\u001b[39;00m\n\u001b[1;32m   1470\u001b[0m \u001b[39m      directly to *x*, *y*. A separate data set will be drawn for every\u001b[39;00m\n\u001b[1;32m   1471\u001b[0m \u001b[39m      column.\u001b[39;00m\n\u001b[1;32m   1472\u001b[0m \n\u001b[1;32m   1473\u001b[0m \u001b[39m      Example: an array ``a`` where the first column represents the *x*\u001b[39;00m\n\u001b[1;32m   1474\u001b[0m \u001b[39m      values and the other columns are the *y* columns::\u001b[39;00m\n\u001b[1;32m   1475\u001b[0m \n\u001b[1;32m   1476\u001b[0m \u001b[39m      >>> plot(a[0], a[1:])\u001b[39;00m\n\u001b[1;32m   1477\u001b[0m \n\u001b[1;32m   1478\u001b[0m \u001b[39m    - The third way is to specify multiple sets of *[x]*, *y*, *[fmt]*\u001b[39;00m\n\u001b[1;32m   1479\u001b[0m \u001b[39m      groups::\u001b[39;00m\n\u001b[1;32m   1480\u001b[0m \n\u001b[1;32m   1481\u001b[0m \u001b[39m      >>> plot(x1, y1, 'g^', x2, y2, 'g-')\u001b[39;00m\n\u001b[1;32m   1482\u001b[0m \n\u001b[1;32m   1483\u001b[0m \u001b[39m      In this case, any additional keyword argument applies to all\u001b[39;00m\n\u001b[1;32m   1484\u001b[0m \u001b[39m      datasets. Also this syntax cannot be combined with the *data*\u001b[39;00m\n\u001b[1;32m   1485\u001b[0m \u001b[39m      parameter.\u001b[39;00m\n\u001b[1;32m   1486\u001b[0m \n\u001b[1;32m   1487\u001b[0m \u001b[39m    By default, each line is assigned a different style specified by a\u001b[39;00m\n\u001b[1;32m   1488\u001b[0m \u001b[39m    'style cycle'. The *fmt* and line property parameters are only\u001b[39;00m\n\u001b[1;32m   1489\u001b[0m \u001b[39m    necessary if you want explicit deviations from these defaults.\u001b[39;00m\n\u001b[1;32m   1490\u001b[0m \u001b[39m    Alternatively, you can also change the style cycle using\u001b[39;00m\n\u001b[1;32m   1491\u001b[0m \u001b[39m    :rc:`axes.prop_cycle`.\u001b[39;00m\n\u001b[1;32m   1492\u001b[0m \n\u001b[1;32m   1493\u001b[0m \n\u001b[1;32m   1494\u001b[0m \u001b[39m    Parameters\u001b[39;00m\n\u001b[1;32m   1495\u001b[0m \u001b[39m    ----------\u001b[39;00m\n\u001b[1;32m   1496\u001b[0m \u001b[39m    x, y : array-like or scalar\u001b[39;00m\n\u001b[1;32m   1497\u001b[0m \u001b[39m        The horizontal / vertical coordinates of the data points.\u001b[39;00m\n\u001b[1;32m   1498\u001b[0m \u001b[39m        *x* values are optional and default to `range(len(y))`.\u001b[39;00m\n\u001b[1;32m   1499\u001b[0m \n\u001b[1;32m   1500\u001b[0m \u001b[39m        Commonly, these parameters are 1D arrays.\u001b[39;00m\n\u001b[1;32m   1501\u001b[0m \n\u001b[1;32m   1502\u001b[0m \u001b[39m        They can also be scalars, or two-dimensional (in that case, the\u001b[39;00m\n\u001b[1;32m   1503\u001b[0m \u001b[39m        columns represent separate data sets).\u001b[39;00m\n\u001b[1;32m   1504\u001b[0m \n\u001b[1;32m   1505\u001b[0m \u001b[39m        These arguments cannot be passed as keywords.\u001b[39;00m\n\u001b[1;32m   1506\u001b[0m \n\u001b[1;32m   1507\u001b[0m \u001b[39m    fmt : str, optional\u001b[39;00m\n\u001b[1;32m   1508\u001b[0m \u001b[39m        A format string, e.g. 'ro' for red circles. See the *Notes*\u001b[39;00m\n\u001b[1;32m   1509\u001b[0m \u001b[39m        section for a full description of the format strings.\u001b[39;00m\n\u001b[1;32m   1510\u001b[0m \n\u001b[1;32m   1511\u001b[0m \u001b[39m        Format strings are just an abbreviation for quickly setting\u001b[39;00m\n\u001b[1;32m   1512\u001b[0m \u001b[39m        basic line properties. All of these and more can also be\u001b[39;00m\n\u001b[1;32m   1513\u001b[0m \u001b[39m        controlled by keyword arguments.\u001b[39;00m\n\u001b[1;32m   1514\u001b[0m \n\u001b[1;32m   1515\u001b[0m \u001b[39m        This argument cannot be passed as keyword.\u001b[39;00m\n\u001b[1;32m   1516\u001b[0m \n\u001b[1;32m   1517\u001b[0m \u001b[39m    data : indexable object, optional\u001b[39;00m\n\u001b[1;32m   1518\u001b[0m \u001b[39m        An object with labelled data. If given, provide the label names to\u001b[39;00m\n\u001b[1;32m   1519\u001b[0m \u001b[39m        plot in *x* and *y*.\u001b[39;00m\n\u001b[1;32m   1520\u001b[0m \n\u001b[1;32m   1521\u001b[0m \u001b[39m        .. note::\u001b[39;00m\n\u001b[1;32m   1522\u001b[0m \u001b[39m            Technically there's a slight ambiguity in calls where the\u001b[39;00m\n\u001b[1;32m   1523\u001b[0m \u001b[39m            second label is a valid *fmt*. `plot('n', 'o', data=obj)`\u001b[39;00m\n\u001b[1;32m   1524\u001b[0m \u001b[39m            could be `plt(x, y)` or `plt(y, fmt)`. In such cases,\u001b[39;00m\n\u001b[1;32m   1525\u001b[0m \u001b[39m            the former interpretation is chosen, but a warning is issued.\u001b[39;00m\n\u001b[1;32m   1526\u001b[0m \u001b[39m            You may suppress the warning by adding an empty format string\u001b[39;00m\n\u001b[1;32m   1527\u001b[0m \u001b[39m            `plot('n', 'o', '', data=obj)`.\u001b[39;00m\n\u001b[1;32m   1528\u001b[0m \n\u001b[1;32m   1529\u001b[0m \u001b[39m    Other Parameters\u001b[39;00m\n\u001b[1;32m   1530\u001b[0m \u001b[39m    ----------------\u001b[39;00m\n\u001b[1;32m   1531\u001b[0m \u001b[39m    scalex, scaley : bool, optional, default: True\u001b[39;00m\n\u001b[1;32m   1532\u001b[0m \u001b[39m        These parameters determined if the view limits are adapted to\u001b[39;00m\n\u001b[1;32m   1533\u001b[0m \u001b[39m        the data limits. The values are passed on to `autoscale_view`.\u001b[39;00m\n\u001b[1;32m   1534\u001b[0m \n\u001b[1;32m   1535\u001b[0m \u001b[39m    **kwargs : `.Line2D` properties, optional\u001b[39;00m\n\u001b[1;32m   1536\u001b[0m \u001b[39m        *kwargs* are used to specify properties like a line label (for\u001b[39;00m\n\u001b[1;32m   1537\u001b[0m \u001b[39m        auto legends), linewidth, antialiasing, marker face color.\u001b[39;00m\n\u001b[1;32m   1538\u001b[0m \u001b[39m        Example::\u001b[39;00m\n\u001b[1;32m   1539\u001b[0m \n\u001b[1;32m   1540\u001b[0m \u001b[39m        >>> plot([1, 2, 3], [1, 2, 3], 'go-', label='line 1', linewidth=2)\u001b[39;00m\n\u001b[1;32m   1541\u001b[0m \u001b[39m        >>> plot([1, 2, 3], [1, 4, 9], 'rs', label='line 2')\u001b[39;00m\n\u001b[1;32m   1542\u001b[0m \n\u001b[1;32m   1543\u001b[0m \u001b[39m        If you make multiple lines with one plot command, the kwargs\u001b[39;00m\n\u001b[1;32m   1544\u001b[0m \u001b[39m        apply to all those lines.\u001b[39;00m\n\u001b[1;32m   1545\u001b[0m \n\u001b[1;32m   1546\u001b[0m \u001b[39m        Here is a list of available `.Line2D` properties:\u001b[39;00m\n\u001b[1;32m   1547\u001b[0m \n\u001b[1;32m   1548\u001b[0m \u001b[39m        %(_Line2D_docstr)s\u001b[39;00m\n\u001b[1;32m   1549\u001b[0m \n\u001b[1;32m   1550\u001b[0m \u001b[39m    Returns\u001b[39;00m\n\u001b[1;32m   1551\u001b[0m \u001b[39m    -------\u001b[39;00m\n\u001b[1;32m   1552\u001b[0m \u001b[39m    lines\u001b[39;00m\n\u001b[1;32m   1553\u001b[0m \u001b[39m        A list of `.Line2D` objects representing the plotted data.\u001b[39;00m\n\u001b[1;32m   1554\u001b[0m \n\u001b[1;32m   1555\u001b[0m \u001b[39m    See Also\u001b[39;00m\n\u001b[1;32m   1556\u001b[0m \u001b[39m    --------\u001b[39;00m\n\u001b[1;32m   1557\u001b[0m \u001b[39m    scatter : XY scatter plot with markers of varying size and/or color (\u001b[39;00m\n\u001b[1;32m   1558\u001b[0m \u001b[39m        sometimes also called bubble chart).\u001b[39;00m\n\u001b[1;32m   1559\u001b[0m \n\u001b[1;32m   1560\u001b[0m \u001b[39m    Notes\u001b[39;00m\n\u001b[1;32m   1561\u001b[0m \u001b[39m    -----\u001b[39;00m\n\u001b[1;32m   1562\u001b[0m \u001b[39m    **Format Strings**\u001b[39;00m\n\u001b[1;32m   1563\u001b[0m \n\u001b[1;32m   1564\u001b[0m \u001b[39m    A format string consists of a part for color, marker and line::\u001b[39;00m\n\u001b[1;32m   1565\u001b[0m \n\u001b[1;32m   1566\u001b[0m \u001b[39m        fmt = '[marker][line][color]'\u001b[39;00m\n\u001b[1;32m   1567\u001b[0m \n\u001b[1;32m   1568\u001b[0m \u001b[39m    Each of them is optional. If not provided, the value from the style\u001b[39;00m\n\u001b[1;32m   1569\u001b[0m \u001b[39m    cycle is used. Exception: If ``line`` is given, but no ``marker``,\u001b[39;00m\n\u001b[1;32m   1570\u001b[0m \u001b[39m    the data will be a line without markers.\u001b[39;00m\n\u001b[1;32m   1571\u001b[0m \n\u001b[1;32m   1572\u001b[0m \u001b[39m    Other combinations such as ``[color][marker][line]`` are also\u001b[39;00m\n\u001b[1;32m   1573\u001b[0m \u001b[39m    supported, but note that their parsing may be ambiguous.\u001b[39;00m\n\u001b[1;32m   1574\u001b[0m \n\u001b[1;32m   1575\u001b[0m \u001b[39m    **Markers**\u001b[39;00m\n\u001b[1;32m   1576\u001b[0m \n\u001b[1;32m   1577\u001b[0m \u001b[39m    =============    ===============================\u001b[39;00m\n\u001b[1;32m   1578\u001b[0m \u001b[39m    character        description\u001b[39;00m\n\u001b[1;32m   1579\u001b[0m \u001b[39m    =============    ===============================\u001b[39;00m\n\u001b[1;32m   1580\u001b[0m \u001b[39m    ``'.'``          point marker\u001b[39;00m\n\u001b[1;32m   1581\u001b[0m \u001b[39m    ``','``          pixel marker\u001b[39;00m\n\u001b[1;32m   1582\u001b[0m \u001b[39m    ``'o'``          circle marker\u001b[39;00m\n\u001b[1;32m   1583\u001b[0m \u001b[39m    ``'v'``          triangle_down marker\u001b[39;00m\n\u001b[1;32m   1584\u001b[0m \u001b[39m    ``'^'``          triangle_up marker\u001b[39;00m\n\u001b[1;32m   1585\u001b[0m \u001b[39m    ``'<'``          triangle_left marker\u001b[39;00m\n\u001b[1;32m   1586\u001b[0m \u001b[39m    ``'>'``          triangle_right marker\u001b[39;00m\n\u001b[1;32m   1587\u001b[0m \u001b[39m    ``'1'``          tri_down marker\u001b[39;00m\n\u001b[1;32m   1588\u001b[0m \u001b[39m    ``'2'``          tri_up marker\u001b[39;00m\n\u001b[1;32m   1589\u001b[0m \u001b[39m    ``'3'``          tri_left marker\u001b[39;00m\n\u001b[1;32m   1590\u001b[0m \u001b[39m    ``'4'``          tri_right marker\u001b[39;00m\n\u001b[1;32m   1591\u001b[0m \u001b[39m    ``'s'``          square marker\u001b[39;00m\n\u001b[1;32m   1592\u001b[0m \u001b[39m    ``'p'``          pentagon marker\u001b[39;00m\n\u001b[1;32m   1593\u001b[0m \u001b[39m    ``'*'``          star marker\u001b[39;00m\n\u001b[1;32m   1594\u001b[0m \u001b[39m    ``'h'``          hexagon1 marker\u001b[39;00m\n\u001b[1;32m   1595\u001b[0m \u001b[39m    ``'H'``          hexagon2 marker\u001b[39;00m\n\u001b[1;32m   1596\u001b[0m \u001b[39m    ``'+'``          plus marker\u001b[39;00m\n\u001b[1;32m   1597\u001b[0m \u001b[39m    ``'x'``          x marker\u001b[39;00m\n\u001b[1;32m   1598\u001b[0m \u001b[39m    ``'D'``          diamond marker\u001b[39;00m\n\u001b[1;32m   1599\u001b[0m \u001b[39m    ``'d'``          thin_diamond marker\u001b[39;00m\n\u001b[1;32m   1600\u001b[0m \u001b[39m    ``'|'``          vline marker\u001b[39;00m\n\u001b[1;32m   1601\u001b[0m \u001b[39m    ``'_'``          hline marker\u001b[39;00m\n\u001b[1;32m   1602\u001b[0m \u001b[39m    =============    ===============================\u001b[39;00m\n\u001b[1;32m   1603\u001b[0m \n\u001b[1;32m   1604\u001b[0m \u001b[39m    **Line Styles**\u001b[39;00m\n\u001b[1;32m   1605\u001b[0m \n\u001b[1;32m   1606\u001b[0m \u001b[39m    =============    ===============================\u001b[39;00m\n\u001b[1;32m   1607\u001b[0m \u001b[39m    character        description\u001b[39;00m\n\u001b[1;32m   1608\u001b[0m \u001b[39m    =============    ===============================\u001b[39;00m\n\u001b[1;32m   1609\u001b[0m \u001b[39m    ``'-'``          solid line style\u001b[39;00m\n\u001b[1;32m   1610\u001b[0m \u001b[39m    ``'--'``         dashed line style\u001b[39;00m\n\u001b[1;32m   1611\u001b[0m \u001b[39m    ``'-.'``         dash-dot line style\u001b[39;00m\n\u001b[1;32m   1612\u001b[0m \u001b[39m    ``':'``          dotted line style\u001b[39;00m\n\u001b[1;32m   1613\u001b[0m \u001b[39m    =============    ===============================\u001b[39;00m\n\u001b[1;32m   1614\u001b[0m \n\u001b[1;32m   1615\u001b[0m \u001b[39m    Example format strings::\u001b[39;00m\n\u001b[1;32m   1616\u001b[0m \n\u001b[1;32m   1617\u001b[0m \u001b[39m        'b'    # blue markers with default shape\u001b[39;00m\n\u001b[1;32m   1618\u001b[0m \u001b[39m        'or'   # red circles\u001b[39;00m\n\u001b[1;32m   1619\u001b[0m \u001b[39m        '-g'   # green solid line\u001b[39;00m\n\u001b[1;32m   1620\u001b[0m \u001b[39m        '--'   # dashed line with default color\u001b[39;00m\n\u001b[1;32m   1621\u001b[0m \u001b[39m        '^k:'  # black triangle_up markers connected by a dotted line\u001b[39;00m\n\u001b[1;32m   1622\u001b[0m \n\u001b[1;32m   1623\u001b[0m \u001b[39m    **Colors**\u001b[39;00m\n\u001b[1;32m   1624\u001b[0m \n\u001b[1;32m   1625\u001b[0m \u001b[39m    The supported color abbreviations are the single letter codes\u001b[39;00m\n\u001b[1;32m   1626\u001b[0m \n\u001b[1;32m   1627\u001b[0m \u001b[39m    =============    ===============================\u001b[39;00m\n\u001b[1;32m   1628\u001b[0m \u001b[39m    character        color\u001b[39;00m\n\u001b[1;32m   1629\u001b[0m \u001b[39m    =============    ===============================\u001b[39;00m\n\u001b[1;32m   1630\u001b[0m \u001b[39m    ``'b'``          blue\u001b[39;00m\n\u001b[1;32m   1631\u001b[0m \u001b[39m    ``'g'``          green\u001b[39;00m\n\u001b[1;32m   1632\u001b[0m \u001b[39m    ``'r'``          red\u001b[39;00m\n\u001b[1;32m   1633\u001b[0m \u001b[39m    ``'c'``          cyan\u001b[39;00m\n\u001b[1;32m   1634\u001b[0m \u001b[39m    ``'m'``          magenta\u001b[39;00m\n\u001b[0;32m-> 1635\u001b[0m \u001b[39m    ``'y'``          yellow\u001b[39;00m\n\u001b[1;32m   1636\u001b[0m \u001b[39m    ``'k'``          black\u001b[39;00m\n\u001b[1;32m   1637\u001b[0m \u001b[39m    ``'w'``          white\u001b[39;00m\n\u001b[1;32m   1638\u001b[0m \u001b[39m    =============    ===============================\u001b[39;00m\n\u001b[1;32m   1639\u001b[0m \n\u001b[1;32m   1640\u001b[0m \u001b[39m    and the ``'CN'`` colors that index into the default property cycle.\u001b[39;00m\n\u001b[1;32m   1641\u001b[0m \n\u001b[1;32m   1642\u001b[0m \u001b[39m    If the color is the only part of the format string, you can\u001b[39;00m\n\u001b[1;32m   1643\u001b[0m \u001b[39m    additionally use any  `matplotlib.colors` spec, e.g. full names\u001b[39;00m\n\u001b[1;32m   1644\u001b[0m \u001b[39m    (``'green'``) or hex strings (``'#008000'``).\u001b[39;00m\n\u001b[1;32m   1645\u001b[0m \u001b[39m    \"\"\"\u001b[39;00m\n\u001b[1;32m   1646\u001b[0m     kwargs \u001b[39m=\u001b[39m cbook\u001b[39m.\u001b[39mnormalize_kwargs(kwargs, mlines\u001b[39m.\u001b[39mLine2D)\n\u001b[1;32m   1647\u001b[0m     lines \u001b[39m=\u001b[39m [\u001b[39m*\u001b[39m\u001b[39mself\u001b[39m\u001b[39m.\u001b[39m_get_lines(\u001b[39m*\u001b[39margs, data\u001b[39m=\u001b[39mdata, \u001b[39m*\u001b[39m\u001b[39m*\u001b[39mkwargs)]\n",
            "File \u001b[0;32m~/.local/lib/python3.10/site-packages/matplotlib/axes/_base.py:312\u001b[0m, in \u001b[0;36m__call__\u001b[0;34m(self, data, *args, **kwargs)\u001b[0m\n\u001b[1;32m    310\u001b[0m \u001b[39mdef\u001b[39;00m \u001b[39m_plot_args\u001b[39m(\u001b[39mself\u001b[39m, tup, kwargs):\n\u001b[1;32m    311\u001b[0m     \u001b[39mif\u001b[39;00m \u001b[39mlen\u001b[39m(tup) \u001b[39m>\u001b[39m \u001b[39m1\u001b[39m \u001b[39mand\u001b[39;00m \u001b[39misinstance\u001b[39m(tup[\u001b[39m-\u001b[39m\u001b[39m1\u001b[39m], \u001b[39mstr\u001b[39m):\n\u001b[0;32m--> 312\u001b[0m         linestyle, marker, color \u001b[39m=\u001b[39m _process_plot_format(tup[\u001b[39m-\u001b[39m\u001b[39m1\u001b[39m])\n\u001b[1;32m    313\u001b[0m         tup \u001b[39m=\u001b[39m tup[:\u001b[39m-\u001b[39m\u001b[39m1\u001b[39m]\n\u001b[1;32m    314\u001b[0m     \u001b[39melif\u001b[39;00m \u001b[39mlen\u001b[39m(tup) \u001b[39m==\u001b[39m \u001b[39m3\u001b[39m:\n",
            "File \u001b[0;32m~/.local/lib/python3.10/site-packages/matplotlib/axes/_base.py:498\u001b[0m, in \u001b[0;36m_plot_args\u001b[0;34m(self, tup, kwargs, return_kwargs)\u001b[0m\n\u001b[1;32m    475\u001b[0m     \u001b[39mself\u001b[39m\u001b[39m.\u001b[39m_ycid \u001b[39m=\u001b[39m \u001b[39mself\u001b[39m\u001b[39m.\u001b[39myaxis\u001b[39m.\u001b[39mcallbacks\u001b[39m.\u001b[39mconnect(\n\u001b[1;32m    476\u001b[0m         \u001b[39m'\u001b[39m\u001b[39munits finalize\u001b[39m\u001b[39m'\u001b[39m, \u001b[39mlambda\u001b[39;00m: \u001b[39mself\u001b[39m\u001b[39m.\u001b[39m_on_units_changed(scaley\u001b[39m=\u001b[39m\u001b[39mTrue\u001b[39;00m))\n\u001b[1;32m    478\u001b[0m \u001b[39mself\u001b[39m\u001b[39m.\u001b[39mtick_params(\n\u001b[1;32m    479\u001b[0m     top\u001b[39m=\u001b[39mrcParams[\u001b[39m'\u001b[39m\u001b[39mxtick.top\u001b[39m\u001b[39m'\u001b[39m] \u001b[39mand\u001b[39;00m rcParams[\u001b[39m'\u001b[39m\u001b[39mxtick.minor.top\u001b[39m\u001b[39m'\u001b[39m],\n\u001b[1;32m    480\u001b[0m     bottom\u001b[39m=\u001b[39mrcParams[\u001b[39m'\u001b[39m\u001b[39mxtick.bottom\u001b[39m\u001b[39m'\u001b[39m] \u001b[39mand\u001b[39;00m rcParams[\u001b[39m'\u001b[39m\u001b[39mxtick.minor.bottom\u001b[39m\u001b[39m'\u001b[39m],\n\u001b[0;32m   (...)\u001b[0m\n\u001b[1;32m    490\u001b[0m                 rcParams[\u001b[39m'\u001b[39m\u001b[39mytick.minor.right\u001b[39m\u001b[39m'\u001b[39m]),\n\u001b[1;32m    491\u001b[0m     which\u001b[39m=\u001b[39m\u001b[39m'\u001b[39m\u001b[39mminor\u001b[39m\u001b[39m'\u001b[39m)\n\u001b[1;32m    493\u001b[0m \u001b[39mself\u001b[39m\u001b[39m.\u001b[39mtick_params(\n\u001b[1;32m    494\u001b[0m     top\u001b[39m=\u001b[39mrcParams[\u001b[39m'\u001b[39m\u001b[39mxtick.top\u001b[39m\u001b[39m'\u001b[39m] \u001b[39mand\u001b[39;00m rcParams[\u001b[39m'\u001b[39m\u001b[39mxtick.major.top\u001b[39m\u001b[39m'\u001b[39m],\n\u001b[1;32m    495\u001b[0m     bottom\u001b[39m=\u001b[39mrcParams[\u001b[39m'\u001b[39m\u001b[39mxtick.bottom\u001b[39m\u001b[39m'\u001b[39m] \u001b[39mand\u001b[39;00m rcParams[\u001b[39m'\u001b[39m\u001b[39mxtick.major.bottom\u001b[39m\u001b[39m'\u001b[39m],\n\u001b[1;32m    496\u001b[0m     labeltop\u001b[39m=\u001b[39m(rcParams[\u001b[39m'\u001b[39m\u001b[39mxtick.labeltop\u001b[39m\u001b[39m'\u001b[39m] \u001b[39mand\u001b[39;00m\n\u001b[1;32m    497\u001b[0m               rcParams[\u001b[39m'\u001b[39m\u001b[39mxtick.major.top\u001b[39m\u001b[39m'\u001b[39m]),\n\u001b[0;32m--> 498\u001b[0m     labelbottom\u001b[39m=\u001b[39m(rcParams[\u001b[39m'\u001b[39m\u001b[39mxtick.labelbottom\u001b[39m\u001b[39m'\u001b[39m] \u001b[39mand\u001b[39;00m\n\u001b[1;32m    499\u001b[0m                  rcParams[\u001b[39m'\u001b[39m\u001b[39mxtick.major.bottom\u001b[39m\u001b[39m'\u001b[39m]),\n\u001b[1;32m    500\u001b[0m     left\u001b[39m=\u001b[39mrcParams[\u001b[39m'\u001b[39m\u001b[39mytick.left\u001b[39m\u001b[39m'\u001b[39m] \u001b[39mand\u001b[39;00m rcParams[\u001b[39m'\u001b[39m\u001b[39mytick.major.left\u001b[39m\u001b[39m'\u001b[39m],\n\u001b[1;32m    501\u001b[0m     right\u001b[39m=\u001b[39mrcParams[\u001b[39m'\u001b[39m\u001b[39mytick.right\u001b[39m\u001b[39m'\u001b[39m] \u001b[39mand\u001b[39;00m rcParams[\u001b[39m'\u001b[39m\u001b[39mytick.major.right\u001b[39m\u001b[39m'\u001b[39m],\n\u001b[1;32m    502\u001b[0m     labelleft\u001b[39m=\u001b[39m(rcParams[\u001b[39m'\u001b[39m\u001b[39mytick.labelleft\u001b[39m\u001b[39m'\u001b[39m] \u001b[39mand\u001b[39;00m\n\u001b[1;32m    503\u001b[0m                rcParams[\u001b[39m'\u001b[39m\u001b[39mytick.major.left\u001b[39m\u001b[39m'\u001b[39m]),\n\u001b[1;32m    504\u001b[0m     labelright\u001b[39m=\u001b[39m(rcParams[\u001b[39m'\u001b[39m\u001b[39mytick.labelright\u001b[39m\u001b[39m'\u001b[39m] \u001b[39mand\u001b[39;00m\n\u001b[1;32m    505\u001b[0m                 rcParams[\u001b[39m'\u001b[39m\u001b[39mytick.major.right\u001b[39m\u001b[39m'\u001b[39m]),\n\u001b[1;32m    506\u001b[0m     which\u001b[39m=\u001b[39m\u001b[39m'\u001b[39m\u001b[39mmajor\u001b[39m\u001b[39m'\u001b[39m)\n\u001b[1;32m    508\u001b[0m \u001b[39mself\u001b[39m\u001b[39m.\u001b[39m_layoutbox \u001b[39m=\u001b[39m \u001b[39mNone\u001b[39;00m\n\u001b[1;32m    509\u001b[0m \u001b[39mself\u001b[39m\u001b[39m.\u001b[39m_poslayoutbox \u001b[39m=\u001b[39m \u001b[39mNone\u001b[39;00m\n",
            "\u001b[0;31mValueError\u001b[0m: x and y must have same first dimension, but have shapes (30,) and (14,)"
          ]
        },
        {
          "data": {
            "image/png": "[encoded data removed]",
            "text/plain": [
              "<Figure size 1000x600 with 1 Axes>"
            ]
          },
          "metadata": {},
          "output_type": "display_data"
        }
      ],
      "source": [
        "#plotando os resultados\n",
        "scores = []\n",
        "for score in grid.cv_results_:\n",
        "    scores.append(score[1])\n",
        "\n",
        "plt.figure(figsize=(10, 6), linestyle='dashed'), marker='o'\n",
        "plt.plot(k_list, scores)\n",
        "plt.xlabel('Valor de K para KNN')\n",
        "plt.ylabel('Acurácia')\n",
        "plt.show()"
      ]
    },
    {
      "cell_type": "code",
      "execution_count": null,
      "metadata": {},
      "outputs": [],
      "source": []
    }
  ],
  "metadata": {
    "colab": {
      "provenance": []
    },
    "kernelspec": {
      "display_name": "Python 3.10.5 64-bit",
      "language": "python",
      "name": "python3"
    },
    "language_info": {
      "codemirror_mode": {
        "name": "ipython",
        "version": 3
      },
      "file_extension": ".py",
      "mimetype": "text/x-python",
      "name": "python",
      "nbconvert_exporter": "python",
      "pygments_lexer": "ipython3",
      "version": "3.10.8"
    },
    "vscode": {
      "interpreter": {
        "hash": "e7370f93d1d0cde622a1f8e1c04877d8463912d04d973331ad4851f04de6915a"
      }
    }
  },
  "nbformat": 4,
  "nbformat_minor": 0
}
